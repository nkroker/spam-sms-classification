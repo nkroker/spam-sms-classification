{
 "cells": [
  {
   "cell_type": "markdown",
   "metadata": {},
   "source": [
    "# Imports"
   ]
  },
  {
   "cell_type": "code",
   "execution_count": 1,
   "metadata": {},
   "outputs": [],
   "source": [
    "from sklearn.naive_bayes import *\n",
    "from sklearn.dummy import *\n",
    "from sklearn.ensemble import *\n",
    "from sklearn.neighbors import *\n",
    "from sklearn.tree import *\n",
    "from sklearn.feature_extraction.text import CountVectorizer\n",
    "from sklearn.feature_extraction.text import TfidfVectorizer\n",
    "from sklearn.feature_extraction.text import HashingVectorizer\n",
    "from sklearn.calibration import *\n",
    "from sklearn.linear_model import *\n",
    "from sklearn.multiclass import *\n",
    "from sklearn.svm import *\n",
    "import pandas\n",
    "import csv"
   ]
  },
  {
   "cell_type": "code",
   "execution_count": 2,
   "metadata": {},
   "outputs": [],
   "source": [
    "def perform(classifiers, vectorizers, train_data, test_data):\n",
    "    for classifier in classifiers:\n",
    "      for vectorizer in vectorizers:\n",
    "        string = ''\n",
    "        string += classifier.__class__.__name__ + ' with ' + vectorizer.__class__.__name__\n",
    "\n",
    "        # train\n",
    "        vectorize_text = vectorizer.fit_transform(train_data.v2)\n",
    "        classifier.fit(vectorize_text, train_data.v1)\n",
    "\n",
    "        # score\n",
    "        vectorize_text = vectorizer.transform(test_data.v2)\n",
    "        score = classifier.score(vectorize_text, test_data.v1)\n",
    "        string += '. Has score: ' + str(score)\n",
    "        print(string)"
   ]
  },
  {
   "cell_type": "code",
   "execution_count": 3,
   "metadata": {},
   "outputs": [],
   "source": [
    "# Reading dataset\n",
    "data = pandas.read_csv('data/spam.csv', encoding='latin-1')"
   ]
  },
  {
   "cell_type": "markdown",
   "metadata": {},
   "source": [
    "# Lets explore data here"
   ]
  },
  {
   "cell_type": "code",
   "execution_count": 4,
   "metadata": {},
   "outputs": [
    {
     "data": {
      "text/plain": [
       "(5572, 5)"
      ]
     },
     "execution_count": 4,
     "metadata": {},
     "output_type": "execute_result"
    }
   ],
   "source": [
    "data.shape"
   ]
  },
  {
   "cell_type": "code",
   "execution_count": 5,
   "metadata": {},
   "outputs": [
    {
     "data": {
      "text/html": [
       "<div>\n",
       "<style scoped>\n",
       "    .dataframe tbody tr th:only-of-type {\n",
       "        vertical-align: middle;\n",
       "    }\n",
       "\n",
       "    .dataframe tbody tr th {\n",
       "        vertical-align: top;\n",
       "    }\n",
       "\n",
       "    .dataframe thead th {\n",
       "        text-align: right;\n",
       "    }\n",
       "</style>\n",
       "<table border=\"1\" class=\"dataframe\">\n",
       "  <thead>\n",
       "    <tr style=\"text-align: right;\">\n",
       "      <th></th>\n",
       "      <th>v1</th>\n",
       "      <th>v2</th>\n",
       "      <th>Unnamed: 2</th>\n",
       "      <th>Unnamed: 3</th>\n",
       "      <th>Unnamed: 4</th>\n",
       "    </tr>\n",
       "  </thead>\n",
       "  <tbody>\n",
       "    <tr>\n",
       "      <th>0</th>\n",
       "      <td>ham</td>\n",
       "      <td>Go until jurong point, crazy.. Available only ...</td>\n",
       "      <td>NaN</td>\n",
       "      <td>NaN</td>\n",
       "      <td>NaN</td>\n",
       "    </tr>\n",
       "    <tr>\n",
       "      <th>1</th>\n",
       "      <td>ham</td>\n",
       "      <td>Ok lar... Joking wif u oni...</td>\n",
       "      <td>NaN</td>\n",
       "      <td>NaN</td>\n",
       "      <td>NaN</td>\n",
       "    </tr>\n",
       "    <tr>\n",
       "      <th>2</th>\n",
       "      <td>spam</td>\n",
       "      <td>Free entry in 2 a wkly comp to win FA Cup fina...</td>\n",
       "      <td>NaN</td>\n",
       "      <td>NaN</td>\n",
       "      <td>NaN</td>\n",
       "    </tr>\n",
       "    <tr>\n",
       "      <th>3</th>\n",
       "      <td>ham</td>\n",
       "      <td>U dun say so early hor... U c already then say...</td>\n",
       "      <td>NaN</td>\n",
       "      <td>NaN</td>\n",
       "      <td>NaN</td>\n",
       "    </tr>\n",
       "    <tr>\n",
       "      <th>4</th>\n",
       "      <td>ham</td>\n",
       "      <td>Nah I don't think he goes to usf, he lives aro...</td>\n",
       "      <td>NaN</td>\n",
       "      <td>NaN</td>\n",
       "      <td>NaN</td>\n",
       "    </tr>\n",
       "  </tbody>\n",
       "</table>\n",
       "</div>"
      ],
      "text/plain": [
       "     v1                                                 v2 Unnamed: 2  \\\n",
       "0   ham  Go until jurong point, crazy.. Available only ...        NaN   \n",
       "1   ham                      Ok lar... Joking wif u oni...        NaN   \n",
       "2  spam  Free entry in 2 a wkly comp to win FA Cup fina...        NaN   \n",
       "3   ham  U dun say so early hor... U c already then say...        NaN   \n",
       "4   ham  Nah I don't think he goes to usf, he lives aro...        NaN   \n",
       "\n",
       "  Unnamed: 3 Unnamed: 4  \n",
       "0        NaN        NaN  \n",
       "1        NaN        NaN  \n",
       "2        NaN        NaN  \n",
       "3        NaN        NaN  \n",
       "4        NaN        NaN  "
      ]
     },
     "execution_count": 5,
     "metadata": {},
     "output_type": "execute_result"
    }
   ],
   "source": [
    "data.head()"
   ]
  },
  {
   "cell_type": "code",
   "execution_count": 6,
   "metadata": {},
   "outputs": [
    {
     "name": "stdout",
     "output_type": "stream",
     "text": [
      "<class 'pandas.core.frame.DataFrame'>\n",
      "RangeIndex: 5572 entries, 0 to 5571\n",
      "Data columns (total 5 columns):\n",
      " #   Column      Non-Null Count  Dtype \n",
      "---  ------      --------------  ----- \n",
      " 0   v1          5572 non-null   object\n",
      " 1   v2          5572 non-null   object\n",
      " 2   Unnamed: 2  50 non-null     object\n",
      " 3   Unnamed: 3  12 non-null     object\n",
      " 4   Unnamed: 4  6 non-null      object\n",
      "dtypes: object(5)\n",
      "memory usage: 217.8+ KB\n"
     ]
    }
   ],
   "source": [
    "data.info()"
   ]
  },
  {
   "cell_type": "markdown",
   "metadata": {},
   "source": []
  },
  {
   "cell_type": "code",
   "execution_count": 7,
   "metadata": {},
   "outputs": [],
   "source": [
    "# Deviding data into learning and testing sets\n",
    "learn = data[:4400] # 4400 items\n",
    "test = data[4400:] # 1172 items"
   ]
  },
  {
   "cell_type": "code",
   "execution_count": 8,
   "metadata": {},
   "outputs": [],
   "source": [
    "classifiers = [\n",
    "        BernoulliNB(),\n",
    "        RandomForestClassifier(n_estimators=100, n_jobs=-1),\n",
    "        AdaBoostClassifier(),\n",
    "        BaggingClassifier(),\n",
    "        ExtraTreesClassifier(),\n",
    "        GradientBoostingClassifier(),\n",
    "        DecisionTreeClassifier(),\n",
    "        CalibratedClassifierCV(),\n",
    "        DummyClassifier(),\n",
    "        PassiveAggressiveClassifier(),\n",
    "        RidgeClassifier(),\n",
    "        RidgeClassifierCV(),\n",
    "        SGDClassifier(),\n",
    "        OneVsRestClassifier(SVC(kernel='linear')),\n",
    "        OneVsRestClassifier(LogisticRegression()),\n",
    "        KNeighborsClassifier()\n",
    "    ]"
   ]
  },
  {
   "cell_type": "code",
   "execution_count": 9,
   "metadata": {},
   "outputs": [],
   "source": [
    "vectorizers = [\n",
    "        CountVectorizer(),\n",
    "        TfidfVectorizer(),\n",
    "        HashingVectorizer()\n",
    "    ]"
   ]
  },
  {
   "cell_type": "code",
   "execution_count": 10,
   "metadata": {},
   "outputs": [
    {
     "name": "stdout",
     "output_type": "stream",
     "text": [
      "BernoulliNB with CountVectorizer. Has score: 0.9778156996587031\n",
      "BernoulliNB with TfidfVectorizer. Has score: 0.9778156996587031\n",
      "BernoulliNB with HashingVectorizer. Has score: 0.8728668941979523\n",
      "RandomForestClassifier with CountVectorizer. Has score: 0.9761092150170648\n",
      "RandomForestClassifier with TfidfVectorizer. Has score: 0.9752559726962458\n",
      "RandomForestClassifier with HashingVectorizer. Has score: 0.9675767918088737\n",
      "AdaBoostClassifier with CountVectorizer. Has score: 0.9718430034129693\n",
      "AdaBoostClassifier with TfidfVectorizer. Has score: 0.9692832764505119\n",
      "AdaBoostClassifier with HashingVectorizer. Has score: 0.9735494880546075\n",
      "BaggingClassifier with CountVectorizer. Has score: 0.9641638225255973\n",
      "BaggingClassifier with TfidfVectorizer. Has score: 0.9667235494880546\n",
      "BaggingClassifier with HashingVectorizer. Has score: 0.9692832764505119\n",
      "ExtraTreesClassifier with CountVectorizer. Has score: 0.9803754266211604\n",
      "ExtraTreesClassifier with TfidfVectorizer. Has score: 0.9786689419795221\n",
      "ExtraTreesClassifier with HashingVectorizer. Has score: 0.9744027303754266\n",
      "GradientBoostingClassifier with CountVectorizer. Has score: 0.9709897610921502\n",
      "GradientBoostingClassifier with TfidfVectorizer. Has score: 0.9667235494880546\n",
      "GradientBoostingClassifier with HashingVectorizer. Has score: 0.9726962457337884\n",
      "DecisionTreeClassifier with CountVectorizer. Has score: 0.9675767918088737\n",
      "DecisionTreeClassifier with TfidfVectorizer. Has score: 0.96160409556314\n",
      "DecisionTreeClassifier with HashingVectorizer. Has score: 0.96160409556314\n",
      "CalibratedClassifierCV with CountVectorizer. Has score: 0.9863481228668942\n",
      "CalibratedClassifierCV with TfidfVectorizer. Has score: 0.9863481228668942\n",
      "CalibratedClassifierCV with HashingVectorizer. Has score: 0.9820819112627986\n",
      "DummyClassifier with CountVectorizer. Has score: 0.7482935153583617\n",
      "DummyClassifier with TfidfVectorizer. Has score: 0.7627986348122867\n"
     ]
    },
    {
     "name": "stderr",
     "output_type": "stream",
     "text": [
      "/home/glifix/anaconda3/envs/spamclassify/lib/python3.8/site-packages/sklearn/dummy.py:131: FutureWarning: The default value of strategy will change from stratified to prior in 0.24.\n",
      "  warnings.warn(\"The default value of strategy will change from \"\n",
      "/home/glifix/anaconda3/envs/spamclassify/lib/python3.8/site-packages/sklearn/dummy.py:131: FutureWarning: The default value of strategy will change from stratified to prior in 0.24.\n",
      "  warnings.warn(\"The default value of strategy will change from \"\n",
      "/home/glifix/anaconda3/envs/spamclassify/lib/python3.8/site-packages/sklearn/dummy.py:131: FutureWarning: The default value of strategy will change from stratified to prior in 0.24.\n",
      "  warnings.warn(\"The default value of strategy will change from \"\n"
     ]
    },
    {
     "name": "stdout",
     "output_type": "stream",
     "text": [
      "DummyClassifier with HashingVectorizer. Has score: 0.7636518771331058\n",
      "PassiveAggressiveClassifier with CountVectorizer. Has score: 0.9837883959044369\n",
      "PassiveAggressiveClassifier with TfidfVectorizer. Has score: 0.984641638225256\n",
      "PassiveAggressiveClassifier with HashingVectorizer. Has score: 0.9803754266211604\n",
      "RidgeClassifier with CountVectorizer. Has score: 0.9812286689419796\n",
      "RidgeClassifier with TfidfVectorizer. Has score: 0.9829351535836177\n",
      "RidgeClassifier with HashingVectorizer. Has score: 0.9820819112627986\n",
      "RidgeClassifierCV with CountVectorizer. Has score: 0.9829351535836177\n",
      "RidgeClassifierCV with TfidfVectorizer. Has score: 0.984641638225256\n",
      "RidgeClassifierCV with HashingVectorizer. Has score: 0.9803754266211604\n",
      "SGDClassifier with CountVectorizer. Has score: 0.9837883959044369\n",
      "SGDClassifier with TfidfVectorizer. Has score: 0.9863481228668942\n",
      "SGDClassifier with HashingVectorizer. Has score: 0.984641638225256\n",
      "OneVsRestClassifier with CountVectorizer. Has score: 0.9863481228668942\n",
      "OneVsRestClassifier with TfidfVectorizer. Has score: 0.9880546075085325\n",
      "OneVsRestClassifier with HashingVectorizer. Has score: 0.9829351535836177\n",
      "OneVsRestClassifier with CountVectorizer. Has score: 0.9837883959044369\n",
      "OneVsRestClassifier with TfidfVectorizer. Has score: 0.9752559726962458\n",
      "OneVsRestClassifier with HashingVectorizer. Has score: 0.9684300341296929\n",
      "KNeighborsClassifier with CountVectorizer. Has score: 0.924061433447099\n",
      "KNeighborsClassifier with TfidfVectorizer. Has score: 0.962457337883959\n",
      "KNeighborsClassifier with HashingVectorizer. Has score: 0.9607508532423208\n"
     ]
    }
   ],
   "source": [
    "\n",
    "perform(classifiers, vectorizers, learn, test)"
   ]
  },
  {
   "cell_type": "markdown",
   "metadata": {},
   "source": [
    "# Highest scoring Classifier and Vectorizer\n",
    "> *OneVsRestClassifier with TfidfVectorizer. Has score: 0.9880546075085325*"
   ]
  },
  {
   "cell_type": "code",
   "execution_count": 18,
   "metadata": {},
   "outputs": [],
   "source": [
    "classifier = OneVsRestClassifier(SVC(kernel='linear'))\n",
    "vectorizer = TfidfVectorizer()"
   ]
  },
  {
   "cell_type": "code",
   "execution_count": 21,
   "metadata": {},
   "outputs": [
    {
     "data": {
      "text/plain": [
       "OneVsRestClassifier(estimator=SVC(C=1.0, break_ties=False, cache_size=200,\n",
       "                                  class_weight=None, coef0=0.0,\n",
       "                                  decision_function_shape='ovr', degree=3,\n",
       "                                  gamma='scale', kernel='linear', max_iter=-1,\n",
       "                                  probability=False, random_state=None,\n",
       "                                  shrinking=True, tol=0.001, verbose=False),\n",
       "                    n_jobs=None)"
      ]
     },
     "execution_count": 21,
     "metadata": {},
     "output_type": "execute_result"
    }
   ],
   "source": [
    "# train\n",
    "vectorize_text = vectorizer.fit_transform(learn.v2)\n",
    "classifier.fit(vectorize_text, learn.v1)"
   ]
  },
  {
   "cell_type": "code",
   "execution_count": 23,
   "metadata": {},
   "outputs": [],
   "source": [
    "# score\n",
    "# vectorize_text = vectorizer.transform(test_data.v2)\n",
    "# score = classifier.score(vectorize_text, test_data.v1)\n",
    "# print(score) # 98,8\n",
    "\n",
    "\n",
    "csv_arr = []\n",
    "for index, row in test.iterrows():\n",
    "    answer = row[0]\n",
    "    text = row[1]\n",
    "    vectorize_text = vectorizer.transform([text])\n",
    "    predict = classifier.predict(vectorize_text)[0]\n",
    "    if predict == answer:\n",
    "        result = 'right'\n",
    "    else:\n",
    "        result = 'wrong'\n",
    "    csv_arr.append([len(csv_arr), text, answer, predict, result])"
   ]
  },
  {
   "cell_type": "code",
   "execution_count": 24,
   "metadata": {},
   "outputs": [],
   "source": [
    "\n",
    "# write csv\n",
    "with open('test_score.csv', 'w', newline='') as csvfile:\n",
    "    spamwriter = csv.writer(csvfile, delimiter=';',\n",
    "            quotechar='\"', quoting=csv.QUOTE_MINIMAL)\n",
    "    spamwriter.writerow(['#', 'text', 'answer', 'predict', result])\n",
    "\n",
    "    for row in csv_arr:\n",
    "        spamwriter.writerow(row)"
   ]
  },
  {
   "cell_type": "code",
   "execution_count": null,
   "metadata": {},
   "outputs": [],
   "source": []
  }
 ],
 "metadata": {
  "kernelspec": {
   "display_name": "Python 3",
   "language": "python",
   "name": "python3"
  },
  "language_info": {
   "codemirror_mode": {
    "name": "ipython",
    "version": 3
   },
   "file_extension": ".py",
   "mimetype": "text/x-python",
   "name": "python",
   "nbconvert_exporter": "python",
   "pygments_lexer": "ipython3",
   "version": "3.8.2"
  }
 },
 "nbformat": 4,
 "nbformat_minor": 4
}
